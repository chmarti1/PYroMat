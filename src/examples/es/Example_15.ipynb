{
 "cells": [
  {
   "attachments": {},
   "cell_type": "markdown",
   "metadata": {},
   "source": [
    "# Enunciado \n",
    "Un compresor adiabático funciona con aire inicialmente a 1,0 bar, 300 K y 70 m/s. Las condiciones a la salida son de 5,0 bar, 540 K y 150 m/s. Determine (a) el trabajo real suministrado, (b) el trabajo (mínimo) reversible requerido con los mismos estados inicial y final, (c) la irreversibilidad del proceso real, dando todas las respuestas en kJ/kg. Suponga que el valor c_p es constante e igual a 1,01 kJ/kg.K, y que la atmósfera está a 1,0 bar y 17 °C\n",
    "\n",
    "![image](../imgs/img_description.png)"
   ]
  },
  {
   "attachments": {},
   "cell_type": "markdown",
   "metadata": {},
   "source": [
    "## Download necessary dependencies"
   ]
  },
  {
   "cell_type": "code",
   "execution_count": 10,
   "metadata": {},
   "outputs": [
    {
     "name": "stdout",
     "output_type": "stream",
     "text": [
      "Requirement already satisfied: pyromat in /Users/daniel/miniforge3/envs/termodinamica/lib/python3.10/site-packages (2.2.4)\n",
      "Requirement already satisfied: numpy in /Users/daniel/miniforge3/envs/termodinamica/lib/python3.10/site-packages (1.24.1)\n",
      "Requirement already satisfied: matplotlib in /Users/daniel/miniforge3/envs/termodinamica/lib/python3.10/site-packages (3.6.2)\n",
      "Requirement already satisfied: colorama in /Users/daniel/miniforge3/envs/termodinamica/lib/python3.10/site-packages (0.4.6)\n",
      "Requirement already satisfied: pillow>=6.2.0 in /Users/daniel/miniforge3/envs/termodinamica/lib/python3.10/site-packages (from matplotlib) (9.3.0)\n",
      "Requirement already satisfied: pyparsing>=2.2.1 in /Users/daniel/miniforge3/envs/termodinamica/lib/python3.10/site-packages (from matplotlib) (3.0.9)\n",
      "Requirement already satisfied: packaging>=20.0 in /Users/daniel/miniforge3/envs/termodinamica/lib/python3.10/site-packages (from matplotlib) (22.0)\n",
      "Requirement already satisfied: fonttools>=4.22.0 in /Users/daniel/miniforge3/envs/termodinamica/lib/python3.10/site-packages (from matplotlib) (4.38.0)\n",
      "Requirement already satisfied: contourpy>=1.0.1 in /Users/daniel/miniforge3/envs/termodinamica/lib/python3.10/site-packages (from matplotlib) (1.0.6)\n",
      "Requirement already satisfied: cycler>=0.10 in /Users/daniel/miniforge3/envs/termodinamica/lib/python3.10/site-packages (from matplotlib) (0.11.0)\n",
      "Requirement already satisfied: kiwisolver>=1.0.1 in /Users/daniel/miniforge3/envs/termodinamica/lib/python3.10/site-packages (from matplotlib) (1.4.4)\n",
      "Requirement already satisfied: python-dateutil>=2.7 in /Users/daniel/miniforge3/envs/termodinamica/lib/python3.10/site-packages (from matplotlib) (2.8.2)\n",
      "Requirement already satisfied: six>=1.5 in /Users/daniel/miniforge3/envs/termodinamica/lib/python3.10/site-packages (from python-dateutil>=2.7->matplotlib) (1.16.0)\n",
      "Note: you may need to restart the kernel to use updated packages.\n"
     ]
    }
   ],
   "source": [
    "%pip install pyromat numpy matplotlib colorama"
   ]
  },
  {
   "attachments": {},
   "cell_type": "markdown",
   "metadata": {},
   "source": [
    "## Importar dependencias necesarias"
   ]
  },
  {
   "cell_type": "code",
   "execution_count": 11,
   "metadata": {},
   "outputs": [],
   "source": [
    "import pyromat as pyro\n",
    "import numpy as np\n",
    "import matplotlib.pyplot as plt\n",
    "from colorama import Fore, Back, Style"
   ]
  },
  {
   "attachments": {},
   "cell_type": "markdown",
   "metadata": {},
   "source": [
    "## Establecer fluido de control"
   ]
  },
  {
   "cell_type": "code",
   "execution_count": 2,
   "metadata": {},
   "outputs": [],
   "source": [
    "aire = pyro.get('ig.air')"
   ]
  },
  {
   "attachments": {},
   "cell_type": "markdown",
   "metadata": {},
   "source": [
    "### Datos del problema"
   ]
  },
  {
   "cell_type": "code",
   "execution_count": 3,
   "metadata": {},
   "outputs": [],
   "source": [
    "p_1 = 1 # bar \n",
    "p_2 = 5 # bar\n",
    "\n",
    "T_1 = 300 # K\n",
    "T_2 = 540 # K\n",
    "\n",
    "v_1 = 70 # m/s\n",
    "v_2 = 150 # m/s\n",
    "\n",
    "R_y = aire.R()\n",
    "cp = 1.01\n",
    "T_atmosfera = 17 + 273.15 # K"
   ]
  },
  {
   "attachments": {},
   "cell_type": "markdown",
   "metadata": {},
   "source": [
    "## Establecer estados conocidos"
   ]
  },
  {
   "attachments": {},
   "cell_type": "markdown",
   "metadata": {},
   "source": [
    "### Estado 1"
   ]
  },
  {
   "cell_type": "code",
   "execution_count": 4,
   "metadata": {},
   "outputs": [
    {
     "data": {
      "text/plain": [
       "{'T': array([300.]),\n",
       " 'p': array([1.01325]),\n",
       " 'd': array([1.17661338]),\n",
       " 'v': array([0.84989684]),\n",
       " 'h': array([-2.4071345]),\n",
       " 'e': array([-88.52293216]),\n",
       " 'gam': array([1.39991606]),\n",
       " 's': array([6.70392413]),\n",
       " 'cp': array([1.00483493]),\n",
       " 'cv': array([0.71778227])}"
      ]
     },
     "execution_count": 4,
     "metadata": {},
     "output_type": "execute_result"
    }
   ],
   "source": [
    "estado_1 = aire.state(T=T_1)\n",
    "h_1 = estado_1.get('h')[0]\n",
    "estado_1"
   ]
  },
  {
   "attachments": {},
   "cell_type": "markdown",
   "metadata": {},
   "source": [
    "### Estado 2"
   ]
  },
  {
   "cell_type": "code",
   "execution_count": 5,
   "metadata": {},
   "outputs": [
    {
     "data": {
      "text/plain": [
       "{'T': array([540.]),\n",
       " 'p': array([1.01325]),\n",
       " 'd': array([0.6536741]),\n",
       " 'v': array([1.52981432]),\n",
       " 'h': array([241.99205029]),\n",
       " 'e': array([86.9836145]),\n",
       " 'gam': array([1.38243193]),\n",
       " 's': array([7.30155568]),\n",
       " 'cp': array([1.0376507]),\n",
       " 'cv': array([0.75059804])}"
      ]
     },
     "execution_count": 5,
     "metadata": {},
     "output_type": "execute_result"
    }
   ],
   "source": [
    "estado_2 = aire.state(T=T_2)\n",
    "h_2 = estado_2.get('h')[0]\n",
    "estado_2"
   ]
  },
  {
   "attachments": {},
   "cell_type": "markdown",
   "metadata": {},
   "source": [
    "\n",
    "\n",
    "$$ \\dot{Q}_{neto} - \\dot{W}_{neto} = \\sum{\\dot{m}*(h + \\frac{v^2}{2})}_{salida} -  \\sum{\\dot{m}*(h+ \\frac{v^2}{2})}_{entrada} $$\n",
    "$$ \\dot{W}_{e} = \\dot{m}_{aire}*((h_2-h_1) + (\\frac{v_2^2}{2} -\\frac{v_1^2}{2})) $$\n"
   ]
  },
  {
   "cell_type": "code",
   "execution_count": 6,
   "metadata": {},
   "outputs": [
    {
     "name": "stdout",
     "output_type": "stream",
     "text": [
      "\u001b[97mTrabajo del compresor: \u001b[92m253.19918478499574\u001b[97m kJ/kg\n"
     ]
    }
   ],
   "source": [
    "trabajo_compresor = (h_2 - h_1) + (pow(v_2, 2) - pow(v_1, 2)) / (2 * 1000)  \n",
    "print(Fore.LIGHTWHITE_EX + 'Trabajo del compresor: ' + Fore.LIGHTGREEN_EX + str(trabajo_compresor) + Fore.LIGHTWHITE_EX + ' kJ/kg')"
   ]
  },
  {
   "attachments": {},
   "cell_type": "markdown",
   "metadata": {},
   "source": [
    "$$ \\dot{W}_{rev, estacionario} =  \\sum_{salida}{\\dot{m} * \\psi} -  \\sum_{entrada}{\\dot{m} * \\psi} $$\n",
    "\n",
    "\n",
    "$$ \\dot{W}_{rev, estacionario} = \\dot{m}*( (h_2-h_0) - T_0*(s_2-s_0) + \\frac{{v_2}^2}{2}  ) -  \\dot{m}*( (h_1-h_0) - T_0*(s_1-s_0) + \\frac{{v_1}^2}{2}  ) $$\n",
    "\n",
    "$$ \\dot{W}_{rev, estacionario} = \\dot{m}_{aire}*((h_2-h_1) + (\\frac{v_2^2}{2} -\\frac{v_1^2}{2})  - T_0*( s_2 -s_1) ) $$\n",
    "\n",
    "Nota : este es un caso particular en donde podemos concluir lo siguiente\n",
    "\n",
    "$$ \\dot{W}_{rev, estacionario} = \\dot{m}_{aire}*( w_e - T_0*( s_2 -s_1) ) $$"
   ]
  },
  {
   "cell_type": "code",
   "execution_count": 7,
   "metadata": {},
   "outputs": [
    {
     "name": "stdout",
     "output_type": "stream",
     "text": [
      "\u001b[97mDiferencia de entropía: \u001b[92m0.13167109951779782\u001b[97m kJ/kg\n"
     ]
    }
   ],
   "source": [
    "diferencia_entropia_1_2 = cp * np.log(T_2 / T_1) - R_y * np.log(p_2 / p_1)\n",
    "print(Fore.LIGHTWHITE_EX + 'Diferencia de entropía: ' + Fore.LIGHTGREEN_EX + str(diferencia_entropia_1_2) + Fore.LIGHTWHITE_EX + ' kJ/kg')"
   ]
  },
  {
   "cell_type": "code",
   "execution_count": 8,
   "metadata": {},
   "outputs": [
    {
     "name": "stdout",
     "output_type": "stream",
     "text": [
      "\u001b[97mTrabajo mínimo reversible: \u001b[92m214.99481525990672\u001b[97m kJ/kg\n"
     ]
    }
   ],
   "source": [
    "trabajo_min_rev = trabajo_compresor - T_atmosfera * diferencia_entropia_1_2\n",
    "print(Fore.LIGHTWHITE_EX + 'Trabajo mínimo reversible: ' + Fore.LIGHTGREEN_EX + str(trabajo_min_rev) + Fore.LIGHTWHITE_EX + ' kJ/kg')"
   ]
  },
  {
   "attachments": {},
   "cell_type": "markdown",
   "metadata": {},
   "source": [
    "$$  \\sum_{salida}{\\dot{m} * \\psi} -  \\sum_{entrada}{\\dot{m} * \\psi} = \\phi_{q} + W_{real} - I_{vc} $$\n",
    "$$  I_{vc}  =  W_{real} - (\\sum_{salida}{\\dot{m} * \\psi} -  \\sum_{entrada}{\\dot{m} * \\psi}) $$\n",
    "$$  I_{vc}  =  W_{real} - ({\\dot{m} * (\\psi_2 - \\psi_1)}) $$\n",
    "$$  I_{vc}  = \\dot{m} * ((h_2-h_1) + (\\frac{v_2^2}{2} -\\frac{v_1^2}{2}) ) - (\\dot{m} * ((h_2-h_1) + (\\frac{v_2^2}{2} -\\frac{v_1^2}{2})  - T_0*( s_2 -s_1))) $$\n",
    "$$  I_{vc}  = \\dot{m} * (T_0*( s_2 -s_1)) $$"
   ]
  },
  {
   "cell_type": "code",
   "execution_count": 9,
   "metadata": {},
   "outputs": [
    {
     "name": "stdout",
     "output_type": "stream",
     "text": [
      "\u001b[97mIrreversibilidad generada: \u001b[92m38.204369525089035\u001b[97m kJ/kg\n"
     ]
    }
   ],
   "source": [
    "irreversibilidad_generada = T_atmosfera * diferencia_entropia_1_2\n",
    "print(Fore.LIGHTWHITE_EX + 'Irreversibilidad generada: ' + Fore.LIGHTGREEN_EX + str(irreversibilidad_generada) + Fore.LIGHTWHITE_EX + ' kJ/kg')"
   ]
  }
 ],
 "metadata": {
  "kernelspec": {
   "display_name": "termodinamica",
   "language": "python",
   "name": "python3"
  },
  "language_info": {
   "codemirror_mode": {
    "name": "ipython",
    "version": 3
   },
   "file_extension": ".py",
   "mimetype": "text/x-python",
   "name": "python",
   "nbconvert_exporter": "python",
   "pygments_lexer": "ipython3",
   "version": "3.10.8"
  },
  "orig_nbformat": 4,
  "vscode": {
   "interpreter": {
    "hash": "42829ba761cc03814a4ca0fd5987a871f250071456647426b2d15a3a80433ab3"
   }
  }
 },
 "nbformat": 4,
 "nbformat_minor": 2
}
