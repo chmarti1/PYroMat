{
 "cells": [
  {
   "attachments": {},
   "cell_type": "markdown",
   "metadata": {},
   "source": [
    "\n",
    "# Statement\n",
    "\n",
    "An adiabatic compressor operates with air initially at 1.0 bar, 300 K, and 70 m/s. The conditions at the outlet are 5.0 bar, 540 K, and 150 m/s. Determine (a) the actual supplied work, (b) the (minimum) reversible work required with the same initial and final states, (c) the irreversibility of the actual process, giving all answers in kJ/kg. Assume the value of c_p is constant and equal to 1.01 kJ/kg.K, and that the atmosphere is at 1.0 bar and 17 °C.\n",
    "\n",
    "![image](../imgs/img_description.png)"
   ]
  },
  {
   "attachments": {},
   "cell_type": "markdown",
   "metadata": {},
   "source": [
    "## Download necessary dependencies"
   ]
  },
  {
   "cell_type": "code",
   "execution_count": 10,
   "metadata": {},
   "outputs": [
    {
     "name": "stdout",
     "output_type": "stream",
     "text": [
      "Requirement already satisfied: pyromat in /Users/daniel/miniforge3/envs/termodinamica/lib/python3.10/site-packages (2.2.4)\n",
      "Requirement already satisfied: numpy in /Users/daniel/miniforge3/envs/termodinamica/lib/python3.10/site-packages (1.24.1)\n",
      "Requirement already satisfied: matplotlib in /Users/daniel/miniforge3/envs/termodinamica/lib/python3.10/site-packages (3.6.2)\n",
      "Requirement already satisfied: colorama in /Users/daniel/miniforge3/envs/termodinamica/lib/python3.10/site-packages (0.4.6)\n",
      "Requirement already satisfied: kiwisolver>=1.0.1 in /Users/daniel/miniforge3/envs/termodinamica/lib/python3.10/site-packages (from matplotlib) (1.4.4)\n",
      "Requirement already satisfied: packaging>=20.0 in /Users/daniel/miniforge3/envs/termodinamica/lib/python3.10/site-packages (from matplotlib) (22.0)\n",
      "Requirement already satisfied: fonttools>=4.22.0 in /Users/daniel/miniforge3/envs/termodinamica/lib/python3.10/site-packages (from matplotlib) (4.38.0)\n",
      "Requirement already satisfied: contourpy>=1.0.1 in /Users/daniel/miniforge3/envs/termodinamica/lib/python3.10/site-packages (from matplotlib) (1.0.6)\n",
      "Requirement already satisfied: python-dateutil>=2.7 in /Users/daniel/miniforge3/envs/termodinamica/lib/python3.10/site-packages (from matplotlib) (2.8.2)\n",
      "Requirement already satisfied: pyparsing>=2.2.1 in /Users/daniel/miniforge3/envs/termodinamica/lib/python3.10/site-packages (from matplotlib) (3.0.9)\n",
      "Requirement already satisfied: cycler>=0.10 in /Users/daniel/miniforge3/envs/termodinamica/lib/python3.10/site-packages (from matplotlib) (0.11.0)\n",
      "Requirement already satisfied: pillow>=6.2.0 in /Users/daniel/miniforge3/envs/termodinamica/lib/python3.10/site-packages (from matplotlib) (9.3.0)\n",
      "Requirement already satisfied: six>=1.5 in /Users/daniel/miniforge3/envs/termodinamica/lib/python3.10/site-packages (from python-dateutil>=2.7->matplotlib) (1.16.0)\n",
      "Note: you may need to restart the kernel to use updated packages.\n"
     ]
    }
   ],
   "source": [
    "%pip install pyromat numpy matplotlib colorama"
   ]
  },
  {
   "attachments": {},
   "cell_type": "markdown",
   "metadata": {},
   "source": [
    "## Import necessary dependencies"
   ]
  },
  {
   "cell_type": "code",
   "execution_count": 11,
   "metadata": {},
   "outputs": [],
   "source": [
    "import pyromat as pyro\n",
    "import numpy as np\n",
    "import matplotlib.pyplot as plt\n",
    "from colorama import Fore, Back, Style"
   ]
  },
  {
   "attachments": {},
   "cell_type": "markdown",
   "metadata": {},
   "source": [
    "## set control fluid"
   ]
  },
  {
   "cell_type": "code",
   "execution_count": 12,
   "metadata": {},
   "outputs": [],
   "source": [
    "air = pyro.get('ig.air')"
   ]
  },
  {
   "attachments": {},
   "cell_type": "markdown",
   "metadata": {},
   "source": [
    "### Datos del problema"
   ]
  },
  {
   "cell_type": "code",
   "execution_count": 13,
   "metadata": {},
   "outputs": [],
   "source": [
    "p_1 = 1 # bar \n",
    "p_2 = 5 # bar\n",
    "\n",
    "T_1 = 300 # K\n",
    "T_2 = 540 # K\n",
    "\n",
    "v_1 = 70 # m/s\n",
    "v_2 = 150 # m/s\n",
    "\n",
    "R_y = air.R()\n",
    "cp = 1.01\n",
    "T_atmosphere = 17 + 273.15 # K"
   ]
  },
  {
   "attachments": {},
   "cell_type": "markdown",
   "metadata": {},
   "source": [
    "## Establish known states:"
   ]
  },
  {
   "attachments": {},
   "cell_type": "markdown",
   "metadata": {},
   "source": [
    "### State 1"
   ]
  },
  {
   "cell_type": "code",
   "execution_count": 14,
   "metadata": {},
   "outputs": [
    {
     "data": {
      "text/plain": [
       "{'T': array([300.]),\n",
       " 'p': array([1.01325]),\n",
       " 'd': array([1.17661338]),\n",
       " 'v': array([0.84989684]),\n",
       " 'h': array([-2.4071345]),\n",
       " 'e': array([-88.52293216]),\n",
       " 'gam': array([1.39991606]),\n",
       " 's': array([6.70392413]),\n",
       " 'cp': array([1.00483493]),\n",
       " 'cv': array([0.71778227])}"
      ]
     },
     "execution_count": 14,
     "metadata": {},
     "output_type": "execute_result"
    }
   ],
   "source": [
    "state_1 = air.state(T=T_1)\n",
    "h_1 = state_1.get('h')[0]\n",
    "state_1"
   ]
  },
  {
   "attachments": {},
   "cell_type": "markdown",
   "metadata": {},
   "source": [
    "### State 2"
   ]
  },
  {
   "cell_type": "code",
   "execution_count": 15,
   "metadata": {},
   "outputs": [
    {
     "data": {
      "text/plain": [
       "{'T': array([540.]),\n",
       " 'p': array([1.01325]),\n",
       " 'd': array([0.6536741]),\n",
       " 'v': array([1.52981432]),\n",
       " 'h': array([241.99205029]),\n",
       " 'e': array([86.9836145]),\n",
       " 'gam': array([1.38243193]),\n",
       " 's': array([7.30155568]),\n",
       " 'cp': array([1.0376507]),\n",
       " 'cv': array([0.75059804])}"
      ]
     },
     "execution_count": 15,
     "metadata": {},
     "output_type": "execute_result"
    }
   ],
   "source": [
    "state_2 = air.state(T=T_2)\n",
    "h_2 = state_2.get('h')[0]\n",
    "state_2"
   ]
  },
  {
   "attachments": {},
   "cell_type": "markdown",
   "metadata": {},
   "source": [
    "\n",
    "\n",
    "$$ \\dot{Q}_{neto} - \\dot{W}_{neto} = \\sum{\\dot{m}*(h + \\frac{v^2}{2})}_{out} -  \\sum{\\dot{m}*(h+ \\frac{v^2}{2})}_{in} $$\n",
    "$$ \\dot{W}_{e} = \\dot{m}_{air}*((h_2-h_1) + (\\frac{v_2^2}{2} -\\frac{v_1^2}{2})) $$\n"
   ]
  },
  {
   "cell_type": "code",
   "execution_count": 16,
   "metadata": {},
   "outputs": [
    {
     "name": "stdout",
     "output_type": "stream",
     "text": [
      "\u001b[97mcompressor_work: \u001b[92m253.19918478499574\u001b[97m kJ/kg\n"
     ]
    }
   ],
   "source": [
    "compressor_work = (h_2 - h_1) + (pow(v_2, 2) - pow(v_1, 2)) / (2 * 1000)  \n",
    "print(Fore.LIGHTWHITE_EX + 'compressor work: ' + Fore.LIGHTGREEN_EX + str(compressor_work) + Fore.LIGHTWHITE_EX + ' kJ/kg')"
   ]
  },
  {
   "attachments": {},
   "cell_type": "markdown",
   "metadata": {},
   "source": [
    "$$ \\dot{W}_{rev, stationary} =  \\sum_{out}{\\dot{m} * \\psi} -  \\sum_{in}{\\dot{m} * \\psi} $$\n",
    "\n",
    "\n",
    "$$ \\dot{W}_{rev, stationary} = \\dot{m}*( (h_2-h_0) - T_0*(s_2-s_0) + \\frac{{v_2}^2}{2}  ) -  \\dot{m}*( (h_1-h_0) - T_0*(s_1-s_0) + \\frac{{v_1}^2}{2}  ) $$\n",
    "\n",
    "$$ \\dot{W}_{rev, stationary} = \\dot{m}_{air}*((h_2-h_1) + (\\frac{v_2^2}{2} -\\frac{v_1^2}{2})  - T_0*( s_2 -s_1) ) $$\n",
    "\n",
    "Note: This is a particular case where we can conclude the following.\n",
    "$$ \\dot{W}_{rev, stationary} = \\dot{m}_{air}*( w_e - T_0*( s_2 -s_1) ) $$"
   ]
  },
  {
   "cell_type": "code",
   "execution_count": 24,
   "metadata": {},
   "outputs": [
    {
     "name": "stdout",
     "output_type": "stream",
     "text": [
      "\u001b[97mentropy difference 1->2 \u001b[92m0.13167109951779782\u001b[97m kJ/kg\n"
     ]
    }
   ],
   "source": [
    "entropy_difference_1_2 = cp * np.log(T_2 / T_1) - R_y * np.log(p_2 / p_1)\n",
    "print(Fore.LIGHTWHITE_EX + 'entropy difference 1->2 ' + Fore.LIGHTGREEN_EX + str(entropy_difference_1_2) + Fore.LIGHTWHITE_EX + ' kJ/kg')"
   ]
  },
  {
   "cell_type": "code",
   "execution_count": 26,
   "metadata": {},
   "outputs": [
    {
     "name": "stdout",
     "output_type": "stream",
     "text": [
      "\u001b[97mminimum work per cycle: \u001b[92m214.99481525990672\u001b[97m kJ/kg\n"
     ]
    }
   ],
   "source": [
    "minimum_work_per_cycle = compressor_work - T_atmosphere * entropy_difference_1_2\n",
    "print(Fore.LIGHTWHITE_EX + 'minimum work per cycle: ' + Fore.LIGHTGREEN_EX + str(minimum_work_per_cycle) + Fore.LIGHTWHITE_EX + ' kJ/kg')"
   ]
  },
  {
   "attachments": {},
   "cell_type": "markdown",
   "metadata": {},
   "source": [
    "$$  \\sum_{out}{\\dot{m} * \\psi} -  \\sum_{entrada}{\\dot{m} * \\psi} = \\phi_{q} + W_{real} - I_{vc} $$\n",
    "$$  I_{vc}  =  W_{real} - (\\sum_{out}{\\dot{m} * \\psi} -  \\sum_{int}{\\dot{m} * \\psi}) $$\n",
    "$$  I_{vc}  =  W_{real} - ({\\dot{m} * (\\psi_2 - \\psi_1)}) $$\n",
    "$$  I_{vc}  = \\dot{m} * ((h_2-h_1) + (\\frac{v_2^2}{2} -\\frac{v_1^2}{2}) ) - (\\dot{m} * ((h_2-h_1) + (\\frac{v_2^2}{2} -\\frac{v_1^2}{2})  - T_0*( s_2 -s_1))) $$\n",
    "$$  I_{vc}  = \\dot{m} * (T_0*( s_2 -s_1)) $$"
   ]
  },
  {
   "cell_type": "code",
   "execution_count": 22,
   "metadata": {},
   "outputs": [
    {
     "name": "stdout",
     "output_type": "stream",
     "text": [
      "\u001b[97mgenerated irreversibility: \u001b[92m38.204369525089035\u001b[97m kJ/kg\n"
     ]
    }
   ],
   "source": [
    "generated_irreversibility = T_atmosphere * entropy_difference_1_2\n",
    "print(Fore.LIGHTWHITE_EX + 'generated irreversibility: ' + Fore.LIGHTGREEN_EX + str(generated_irreversibility) + Fore.LIGHTWHITE_EX + ' kJ/kg')"
   ]
  }
 ],
 "metadata": {
  "kernelspec": {
   "display_name": "termodinamica",
   "language": "python",
   "name": "python3"
  },
  "language_info": {
   "codemirror_mode": {
    "name": "ipython",
    "version": 3
   },
   "file_extension": ".py",
   "mimetype": "text/x-python",
   "name": "python",
   "nbconvert_exporter": "python",
   "pygments_lexer": "ipython3",
   "version": "3.10.8"
  },
  "orig_nbformat": 4,
  "vscode": {
   "interpreter": {
    "hash": "42829ba761cc03814a4ca0fd5987a871f250071456647426b2d15a3a80433ab3"
   }
  }
 },
 "nbformat": 4,
 "nbformat_minor": 2
}
